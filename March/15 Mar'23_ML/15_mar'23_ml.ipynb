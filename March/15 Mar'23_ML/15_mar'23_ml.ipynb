{
 "cells": [
  {
   "cell_type": "markdown",
   "metadata": {},
   "source": [
    "\n",
    "\n",
    "Q1- Explain the following with an example:\n",
    "a) Artificial Intelligence (AI)\n",
    "b) Machine Learning (ML)\n",
    "c) Deep Learning (DL)\n",
    "\n",
    "\n",
    "\n",
    "\n",
    "\n"
   ]
  },
  {
   "cell_type": "markdown",
   "metadata": {},
   "source": [
    "a) Artificial Intelligence (AI): AI refers to the simulation of human intelligence in machines that are programmed to think and learn. Example: Virtual personal assistants like Siri or Google Assistant.\n",
    "b) Machine Learning (ML): ML is a subset of AI that involves the use of algorithms and statistical models to enable systems to improve their performance on a task over time. Example: Spam email filter.\n",
    "c) Deep Learning (DL): DL is a subset of ML that uses neural networks with multiple layers (deep neural networks) to model and process data. Example: Image and speech recognition systems."
   ]
  },
  {
   "cell_type": "markdown",
   "metadata": {},
   "source": [
    "Q2- What is supervised learning? List some examples of supervised learning."
   ]
  },
  {
   "cell_type": "markdown",
   "metadata": {},
   "source": [
    "\n",
    "Supervised learning is a type of machine learning where the algorithm is trained on a labeled dataset, meaning that it learns from input-output pairs. The goal is to make predictions or decisions based on new, unseen data.\n",
    "\n",
    "Examples of supervised learning:\n",
    "\n",
    "Image classification: Labeling images as cat or dog.\n",
    "Spam detection: Classifying emails as spam or not spam.\n",
    "Regression: Predicting house prices based on features like square footage and number of bedrooms.\n"
   ]
  },
  {
   "cell_type": "markdown",
   "metadata": {},
   "source": [
    "Q3- What is unsupervised learning? List some examples of unsupervised learning."
   ]
  },
  {
   "cell_type": "markdown",
   "metadata": {},
   "source": [
    "\n",
    "Unsupervised learning is a type of machine learning where the algorithm is given unlabeled data and must find patterns and relationships within the data on its own.\n",
    "\n",
    "Examples of unsupervised learning:\n",
    "\n",
    "Clustering: Grouping similar customer preferences without predefined categories.\n",
    "Dimensionality reduction: Reducing the number of features while retaining the essential information.\n",
    "Association: Discovering relationships between items in a dataset, like market basket analysis.\n",
    "\n"
   ]
  },
  {
   "cell_type": "markdown",
   "metadata": {},
   "source": [
    "Q4- What is the difference between AI, ML, DL, and DS?\n",
    "\n"
   ]
  },
  {
   "cell_type": "markdown",
   "metadata": {},
   "source": [
    "AI (Artificial Intelligence): The broader concept of machines or software systems exhibiting human-like intelligence.\n",
    "ML (Machine Learning): A subset of AI that focuses on the development of algorithms that enable computers to learn from data.\n",
    "DL (Deep Learning): A subset of ML that involves neural networks with multiple layers, often used for complex tasks like image and speech recognition.\n",
    "DS (Data Science): An interdisciplinary field that involves extracting insights and knowledge from structured and unstructured data."
   ]
  },
  {
   "cell_type": "markdown",
   "metadata": {},
   "source": [
    "Q5- What are the main differences between supervised, unsupervised, and semi-supervised learning?"
   ]
  },
  {
   "cell_type": "markdown",
   "metadata": {},
   "source": [
    "\n",
    "\n",
    "Supervised learning uses labeled data, where the algorithm learns from input-output pairs.\n",
    "Unsupervised learning uses unlabeled data, and the algorithm discovers patterns and relationships within the data.\n",
    "Semi-supervised learning combines both labeled and unlabeled data for training.\n"
   ]
  },
  {
   "cell_type": "markdown",
   "metadata": {},
   "source": [
    "Q6- What is the train, test, and validation split? Explain the importance of each term."
   ]
  },
  {
   "cell_type": "markdown",
   "metadata": {},
   "source": [
    "\n",
    "\n",
    "Train set: The portion of the dataset used to train the model.\n",
    "Test set: The portion of the dataset used to evaluate the model's performance on unseen data.\n",
    "Validation set: An additional subset used during training to fine-tune the model and prevent overfitting.\n",
    "The importance of each term:\n",
    "\n",
    "Training set helps the model learn patterns from the data.\n",
    "Validation set aids in tuning hyperparameters and preventing overfitting.\n",
    "Test set evaluates the model's generalization performance on new, unseen data.\n"
   ]
  },
  {
   "cell_type": "markdown",
   "metadata": {},
   "source": [
    "Q7- How can unsupervised learning be used in anomaly detection?"
   ]
  },
  {
   "cell_type": "markdown",
   "metadata": {},
   "source": [
    "\n",
    "Unsupervised learning can be used in anomaly detection by allowing the algorithm to learn the normal patterns in the data during training. Any deviation from these learned patterns can be considered an anomaly. For example, clustering techniques or autoencoders can be applied to identify unusual patterns or outliers in the data.\n"
   ]
  },
  {
   "cell_type": "markdown",
   "metadata": {},
   "source": [
    "\n",
    "Q8- List down some commonly used supervised learning algorithms and unsupervised learning algorithms.\n",
    "Common supervised learning algorithms:"
   ]
  },
  {
   "cell_type": "markdown",
   "metadata": {},
   "source": [
    "\n",
    "\n",
    "Linear Regression\n",
    "Decision Trees\n",
    "Random Forest\n",
    "Support Vector Machines\n",
    "k-Nearest Neighbors (k-NN)\n",
    "Neural Networks\n",
    "Common unsupervised learning algorithms:\n",
    "\n",
    "K-Means Clustering\n",
    "Hierarchical Clustering\n",
    "Principal Component Analysis (PCA)\n",
    "t-Distributed Stochastic Neighbor Embedding (t-SNE)\n",
    "Apriori Algorithm (for association rule learning)\n",
    "Autoencoders"
   ]
  }
 ],
 "metadata": {
  "language_info": {
   "name": "python"
  }
 },
 "nbformat": 4,
 "nbformat_minor": 2
}
